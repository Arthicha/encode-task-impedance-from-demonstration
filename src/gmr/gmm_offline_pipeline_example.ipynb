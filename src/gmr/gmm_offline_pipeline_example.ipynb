{
 "cells": [
  {
   "cell_type": "markdown",
   "source": [
    "This is an example of how to use the offline GMM support."
   ],
   "metadata": {
    "collapsed": false,
    "pycharm": {
     "name": "#%% md\n"
    }
   }
  },
  {
   "cell_type": "code",
   "execution_count": 10,
   "outputs": [],
   "source": [
    "from pathlib import Path\n",
    "from gaussian_mixture_regression import train_GMM\n",
    "from real_data_handler import load_real_data"
   ],
   "metadata": {
    "collapsed": false,
    "pycharm": {
     "name": "#%%\n"
    }
   }
  },
  {
   "cell_type": "markdown",
   "source": [
    "Load in the real data using the handler function.\n",
    "Printing the shapes of the returned data."
   ],
   "metadata": {
    "collapsed": false,
    "pycharm": {
     "name": "#%% md\n"
    }
   }
  },
  {
   "cell_type": "code",
   "execution_count": 11,
   "outputs": [
    {
     "name": "stdout",
     "output_type": "stream",
     "text": [
      "(6, 100)\n",
      "(6, 3, 100)\n",
      "(6, 100, 21)\n",
      "(2, 1, 21)\n",
      "(2, 1, 21)\n",
      "(2, 600, 21)\n",
      "(600, 1, 1)\n"
     ]
    }
   ],
   "source": [
    "data_path = str(Path().resolve()) + '/../../resources/parameters/task_up_combinedweight/estimatedparams2.npy'\n",
    "time, force, the_data, fx, fy, fz, f_list, fe = load_real_data(filepath=data_path, plot=False)\n",
    "print(time.shape)\n",
    "print(force.shape)\n",
    "print(the_data.shape)\n",
    "print(fx.shape)\n",
    "print(fy.shape)\n",
    "print(fz.shape)\n",
    "print(f_list[2][:, np.newaxis].shape)"
   ],
   "metadata": {
    "collapsed": false,
    "pycharm": {
     "name": "#%%\n"
    }
   }
  },
  {
   "cell_type": "markdown",
   "source": [
    "Train and save the models. The offline part should be done!"
   ],
   "metadata": {
    "collapsed": false,
    "pycharm": {
     "name": "#%% md\n"
    }
   }
  },
  {
   "cell_type": "code",
   "execution_count": 12,
   "outputs": [
    {
     "name": "stderr",
     "output_type": "stream",
     "text": [
      "/home/manu/.local/lib/python3.8/site-packages/sklearn/mixture/_base.py:277: ConvergenceWarning: Initialization 1 did not converge. Try different init parameters, or increase max_iter, tol or check for degenerate data.\n",
      "  warnings.warn(\n",
      "/home/manu/.local/lib/python3.8/site-packages/sklearn/mixture/_base.py:277: ConvergenceWarning: Initialization 1 did not converge. Try different init parameters, or increase max_iter, tol or check for degenerate data.\n",
      "  warnings.warn(\n"
     ]
    }
   ],
   "source": [
    "timed_GMM = train_GMM(X=the_data, gaus_num=15, filename='timed_GMM')\n",
    "fx_GMM = train_GMM(X=fx, gaus_num=15, filename='fx_GMM')\n",
    "fy_GMM = train_GMM(X=fy, gaus_num=15, filename='fy_GMM')\n",
    "fz_GMM = train_GMM(X=fz, gaus_num=15, filename='fz_GMM')"
   ],
   "metadata": {
    "collapsed": false,
    "pycharm": {
     "name": "#%%\n"
    }
   }
  }
 ],
 "metadata": {
  "kernelspec": {
   "display_name": "Python 3",
   "language": "python",
   "name": "python3"
  },
  "language_info": {
   "codemirror_mode": {
    "name": "ipython",
    "version": 2
   },
   "file_extension": ".py",
   "mimetype": "text/x-python",
   "name": "python",
   "nbconvert_exporter": "python",
   "pygments_lexer": "ipython2",
   "version": "2.7.6"
  }
 },
 "nbformat": 4,
 "nbformat_minor": 0
}