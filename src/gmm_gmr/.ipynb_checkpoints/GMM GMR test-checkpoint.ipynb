{
 "cells": [
  {
   "cell_type": "markdown",
   "metadata": {},
   "source": [
    "import module"
   ]
  },
  {
   "cell_type": "code",
   "execution_count": 1,
   "metadata": {},
   "outputs": [
    {
     "name": "stdout",
     "output_type": "stream",
     "text": [
      "Importing the dtw module. When using in academic works please cite:\n",
      "  T. Giorgino. Computing and Visualizing Dynamic Time Warping Alignments in R: The dtw Package.\n",
      "  J. Stat. Soft., doi:10.18637/jss.v031.i07.\n",
      "\n"
     ]
    }
   ],
   "source": [
    "# basic module\n",
    "import sys\n",
    "import numpy as np\n",
    "import matplotlib.pyplot as plt\n",
    "import os\n",
    "import math\n",
    "from copy import deepcopy\n",
    "from scipy.spatial.distance import euclidean\n",
    "from scipy import stats\n",
    "import torch\n",
    "from dtw import *\n",
    "from scipy.signal import savgol_filter\n",
    "from sklearn import mixture\n",
    "from gmr import GMM\n",
    "import itertools\n",
    "from scipy import linalg\n",
    "import matplotlib as mpl\n",
    "import matplotlib.colors as mcolors\n"
   ]
  },
  {
   "cell_type": "markdown",
   "metadata": {},
   "source": [
    "# GMM"
   ]
  },
  {
   "cell_type": "code",
   "execution_count": 2,
   "metadata": {},
   "outputs": [
    {
     "name": "stdout",
     "output_type": "stream",
     "text": [
      "data shape: (10, 25, 100)\n"
     ]
    }
   ],
   "source": [
    "data = np.load('../../resources/parameters/task_up_combinedweight/estimatedparams.npy')\n",
    "print(\"data shape:\", data.shape)\n",
    "force_data = data[:,24,:]\n",
    "Kp6_data = data[:,6,:]"
   ]
  },
  {
   "cell_type": "markdown",
   "metadata": {},
   "source": [
    "plot the data"
   ]
  },
  {
   "cell_type": "code",
   "execution_count": 10,
   "metadata": {},
   "outputs": [
    {
     "name": "stdout",
     "output_type": "stream",
     "text": [
      "(1000,)\n",
      "(1000,)\n",
      "(1000, 2)\n"
     ]
    },
    {
     "data": {
      "image/png": "[encoded data removed]",
      "text/plain": [
       "<Figure size 1440x360 with 1 Axes>"
      ]
     },
     "metadata": {
      "needs_background": "light"
     },
     "output_type": "display_data"
    }
   ],
   "source": [
    "print(force_data.flatten().shape)\n",
    "print(Kp6_data.flatten().shape)\n",
    "isample = 1\n",
    "data_gmm_force = np.concatenate([np.expand_dims(force_data.flatten(),0),np.expand_dims(Kp6_data.flatten(),0)],0).transpose()\n",
    "print(data_gmm_force.shape)\n",
    "\n",
    "plt.rcParams[\"figure.figsize\"] = (20,5)\n",
    "plt.scatter(force_data.flatten(),Kp6_data.flatten())\n",
    "plt.xlabel(\"force\",fontsize='xx-large')\n",
    "plt.ylabel(\"Kp[6]\",fontsize='xx-large')\n",
    "plt.show()"
   ]
  },
  {
   "cell_type": "code",
   "execution_count": 4,
   "metadata": {},
   "outputs": [
    {
     "name": "stdout",
     "output_type": "stream",
     "text": [
      "weight [0.00401558 0.07339877 0.01891109 0.01661237 0.20504254 0.24876911\n",
      " 0.00502555 0.40224594 0.02283621 0.00314284]\n",
      "weight [[-6.30192635e-01  3.24551170e+01]\n",
      " [-1.00000000e+00  2.02438733e+02]\n",
      " [ 0.00000000e+00  2.29529049e+02]\n",
      " [-1.00000000e+00  6.55735930e+02]\n",
      " [-1.00000000e+00  5.42530020e+01]\n",
      " [ 0.00000000e+00  2.61433582e+01]\n",
      " [ 0.00000000e+00  2.92390113e+02]\n",
      " [-2.43105100e-01  1.00000010e+01]\n",
      " [ 0.00000000e+00  1.34991390e+02]\n",
      " [-1.00000000e+00  5.67289064e+02]]\n",
      "covariances [[[ 5.55970987e-02  1.27289636e-01]\n",
      "  [ 1.27289636e-01  7.39961751e-01]]\n",
      "\n",
      " [[ 1.00000000e-06 -3.14208341e-27]\n",
      "  [-3.12144801e-27  1.23296566e+04]]\n",
      "\n",
      " [[ 1.00000000e-06  0.00000000e+00]\n",
      "  [ 0.00000000e+00  7.96529229e+00]]\n",
      "\n",
      " [[ 1.00000000e-06 -7.73134563e-29]\n",
      "  [-7.73108916e-29  1.27238404e+02]]\n",
      "\n",
      " [[ 1.00000000e-06 -2.39579291e-27]\n",
      "  [-2.39628536e-27  1.09669291e+03]]\n",
      "\n",
      " [[ 1.00000000e-06  0.00000000e+00]\n",
      "  [ 0.00000000e+00  2.20114762e+02]]\n",
      "\n",
      " [[ 1.00000000e-06  0.00000000e+00]\n",
      "  [ 0.00000000e+00  5.40709409e+02]]\n",
      "\n",
      " [[ 1.84006010e-01 -7.47751497e-07]\n",
      "  [-7.47751497e-07  1.00353917e-06]]\n",
      "\n",
      " [[ 1.00000000e-06  0.00000000e+00]\n",
      "  [ 0.00000000e+00  8.91140732e+02]]\n",
      "\n",
      " [[ 1.00000000e-06 -1.59149007e-28]\n",
      "  [-1.59560962e-28  1.03939202e+03]]]\n"
     ]
    },
    {
     "data": {
      "text/plain": [
       "<gmr.gmm.GMM at 0x21282156e10>"
      ]
     },
     "execution_count": 4,
     "metadata": {},
     "output_type": "execute_result"
    }
   ],
   "source": [
    "gmmsk = mixture.GaussianMixture(n_components=10, covariance_type='full')\n",
    "gmmsk.fit(data_gmm_force)\n",
    "print(\"weight\",gmmsk.weights_)\n",
    "print(\"weight\",gmmsk.means_)\n",
    "print(\"covariances\",gmmsk.covariances_)\n",
    "gmm = GMM(n_components=10, random_state=0)\n",
    "gmm.from_samples(data_gmm_force,init_params=\"kmeans++\")"
   ]
  },
  {
   "cell_type": "code",
   "execution_count": 5,
   "metadata": {},
   "outputs": [],
   "source": [
    "def plot_results(X, Y_, means, covariances, index, title):\n",
    "    splot = plt.subplot(1, 1, 1)\n",
    "    for i, (mean, covar, color) in enumerate(zip(\n",
    "            means, covariances, color_iter)):\n",
    "        v, w = linalg.eigh(covar)\n",
    "        v = 2. * np.sqrt(2.) * np.sqrt(v)\n",
    "        u = w[0] / linalg.norm(w[0])\n",
    "        # as the DP will not use every component it has access to\n",
    "        # unless it needs it, we shouldn't plot the redundant\n",
    "        # components.\n",
    "        if not np.any(Y_ == i):\n",
    "            continue\n",
    "        plt.scatter(X[Y_ == i, 0], X[Y_ == i, 1], .8, color=color)\n",
    "\n",
    "        # Plot an ellipse to show the Gaussian component\n",
    "        angle = np.arctan(u[1] / u[0])\n",
    "        angle = 180. * angle / np.pi  # convert to degrees\n",
    "        ell = mpl.patches.Ellipse(mean, v[0], v[1], 180. + angle, color=color)\n",
    "        ell.set_clip_box(splot.bbox)\n",
    "        ell.set_alpha(0.5)\n",
    "        splot.add_artist(ell)\n",
    "\n",
    "    #plt.xlim(-9., 5.)\n",
    "    #plt.ylim(-3., 6.)\n",
    "    plt.xticks(())\n",
    "    plt.yticks(())\n",
    "    plt.title(title)"
   ]
  },
  {
   "cell_type": "code",
   "execution_count": 6,
   "metadata": {},
   "outputs": [
    {
     "data": {
      "image/png": "[encoded data removed]",
      "text/plain": [
       "<Figure size 1440x360 with 1 Axes>"
      ]
     },
     "metadata": {},
     "output_type": "display_data"
    }
   ],
   "source": [
    "color_iter = itertools.cycle(list(mcolors.TABLEAU_COLORS))\n",
    "plt.rcParams[\"figure.figsize\"] = (20,5)\n",
    "plot_results(data_gmm_force, gmmsk.predict(data_gmm_force), gmmsk.means_, gmmsk.covariances_, 0,\n",
    "             'Gaussian Mixture')"
   ]
  },
  {
   "cell_type": "code",
   "execution_count": 15,
   "metadata": {},
   "outputs": [
    {
     "name": "stdout",
     "output_type": "stream",
     "text": [
      "(1000, 1)\n",
      "(1000, 1)\n",
      "(1000, 1)\n"
     ]
    },
    {
     "data": {
      "image/png": "[encoded data removed]",
      "text/plain": [
       "<Figure size 1440x360 with 1 Axes>"
      ]
     },
     "metadata": {
      "needs_background": "light"
     },
     "output_type": "display_data"
    }
   ],
   "source": [
    "\n",
    "x1 = np.linspace(-1, 0.5, 1000)\n",
    "x1 = np.expand_dims(x1,1)\n",
    "print(x1.shape)\n",
    "x1_index = [0]\n",
    "x2_predicted_mean = gmm.predict(x1_index, x1)\n",
    "print(x2_predicted_mean.shape)\n",
    "print(x1.shape)\n",
    "\n",
    "plt.rcParams[\"figure.figsize\"] = (20,5)\n",
    "plt.scatter(force_data.flatten(),Kp6_data.flatten())\n",
    "plt.scatter(x1[:,0],x2_predicted_mean[:,0],c='tab:red',alpha=0.5)\n",
    "plt.xlabel(\"force\",fontsize='xx-large')\n",
    "plt.ylabel(\"Kp[6]\",fontsize='xx-large')\n",
    "plt.legend(['data','prediction'],fontsize=20)\n",
    "plt.show()"
   ]
  },
  {
   "cell_type": "code",
   "execution_count": null,
   "metadata": {},
   "outputs": [],
   "source": []
  }
 ],
 "metadata": {
  "kernelspec": {
   "display_name": "Python 3",
   "language": "python",
   "name": "python3"
  },
  "language_info": {
   "codemirror_mode": {
    "name": "ipython",
    "version": 3
   },
   "file_extension": ".py",
   "mimetype": "text/x-python",
   "name": "python",
   "nbconvert_exporter": "python",
   "pygments_lexer": "ipython3",
   "version": "3.6.5"
  }
 },
 "nbformat": 4,
 "nbformat_minor": 2
}
